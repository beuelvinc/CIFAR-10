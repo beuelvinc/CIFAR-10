{
  "nbformat": 4,
  "nbformat_minor": 0,
  "metadata": {
    "colab": {
      "name": "Untitled0.ipynb",
      "provenance": [],
      "private_outputs": true,
      "authorship_tag": "ABX9TyM4VS6Vhj5WUpkmQCR3AusH",
      "include_colab_link": true
    },
    "kernelspec": {
      "name": "python3",
      "display_name": "Python 3"
    },
    "accelerator": "GPU"
  },
  "cells": [
    {
      "cell_type": "markdown",
      "metadata": {
        "id": "view-in-github",
        "colab_type": "text"
      },
      "source": [
        "<a href=\"https://colab.research.google.com/github/beuelvinc/CIFAR-10/blob/master/CIDAR-10.ipynb\" target=\"_parent\"><img src=\"https://colab.research.google.com/assets/colab-badge.svg\" alt=\"Open In Colab\"/></a>"
      ]
    },
    {
      "cell_type": "code",
      "metadata": {
        "id": "oscBAkKFwRpG",
        "colab_type": "code",
        "colab": {}
      },
      "source": [
        "import tensorflow as tf\n",
        "import numpy as np\n",
        "import matplotlib.pyplot as plt\n",
        "from tensorflow.keras.layers import *\n",
        "from tensorflow.keras.models import Model"
      ],
      "execution_count": null,
      "outputs": []
    },
    {
      "cell_type": "code",
      "metadata": {
        "id": "ci6MwnYswlKI",
        "colab_type": "code",
        "colab": {}
      },
      "source": [
        "cifar10=tf.keras.datasets.cifar10"
      ],
      "execution_count": null,
      "outputs": []
    },
    {
      "cell_type": "code",
      "metadata": {
        "id": "ZFCWxv2zwqAH",
        "colab_type": "code",
        "colab": {}
      },
      "source": [
        "(x_train,y_train),(x_test,y_test)=cifar10.load_data()"
      ],
      "execution_count": null,
      "outputs": []
    },
    {
      "cell_type": "code",
      "metadata": {
        "id": "VV8UBD3FzxGZ",
        "colab_type": "code",
        "colab": {}
      },
      "source": [
        "x_train=x_train/255.0\n",
        "x_test=x_test/255.0\n",
        "y_train,y_test=y_train.flatten(),y_test.flatten()"
      ],
      "execution_count": null,
      "outputs": []
    },
    {
      "cell_type": "code",
      "metadata": {
        "id": "nzVPmWrh1H4b",
        "colab_type": "code",
        "colab": {}
      },
      "source": [
        "print(y_train.shape)"
      ],
      "execution_count": null,
      "outputs": []
    },
    {
      "cell_type": "code",
      "metadata": {
        "id": "RTojHvVl1JNM",
        "colab_type": "code",
        "colab": {}
      },
      "source": [
        "K=len(set(y_train))"
      ],
      "execution_count": null,
      "outputs": []
    },
    {
      "cell_type": "code",
      "metadata": {
        "id": "Fg1q7OW91ZGE",
        "colab_type": "code",
        "colab": {}
      },
      "source": [
        "K #number of clases\n"
      ],
      "execution_count": null,
      "outputs": []
    },
    {
      "cell_type": "code",
      "metadata": {
        "id": "XNl05n681aZ_",
        "colab_type": "code",
        "colab": {}
      },
      "source": [
        "model=tf.keras.Sequential([\n",
        "                        Input(shape=x_train[0].shape),\n",
        "\n",
        "                        Conv2D(32,(3,3),activation='relu',padding='same'),\n",
        "                        BatchNormalization(),\n",
        "                        Conv2D(32,(3,3),activation='relu',padding='same'),\n",
        "                        BatchNormalization(),\n",
        "                        MaxPooling2D((2,2)),\n",
        "\n",
        "                        Conv2D(64,(3,3),activation='relu',padding='same'),\n",
        "                        BatchNormalization(),\n",
        "                        Conv2D(64,(3,3),activation='relu',padding='same'),\n",
        "                        BatchNormalization(),\n",
        "                        MaxPooling2D((2,2)),\n",
        "                        \n",
        "                        Conv2D(128,(3,3),activation='relu',padding='same'),\n",
        "                        BatchNormalization(),\n",
        "                        Conv2D(128,(3,3),activation='relu',padding='same'),\n",
        "                        BatchNormalization(),\n",
        "                        MaxPooling2D((2,2)),\n",
        "                        \n",
        "                        Flatten(),\n",
        "                        Dropout(0.2),\n",
        "                        Dense(1024,activation='relu'),                           \n",
        "                        Dropout(0.2),\n",
        "                        Dense(K,activation='softmax'),\n",
        "\n",
        "])"
      ],
      "execution_count": null,
      "outputs": []
    },
    {
      "cell_type": "code",
      "metadata": {
        "id": "SRE3vX-S1hr4",
        "colab_type": "code",
        "colab": {}
      },
      "source": [
        "model.compile(optimizer='adam',loss='sparse_categorical_crossentropy',metrics=['accuracy'])"
      ],
      "execution_count": null,
      "outputs": []
    },
    {
      "cell_type": "code",
      "metadata": {
        "id": "-6rmhaCM2ihM",
        "colab_type": "code",
        "colab": {}
      },
      "source": [
        "history=model.fit(x_train,y_train,validation_data=(x_test,y_test),epochs=15,steps_per_epoch=50000)"
      ],
      "execution_count": null,
      "outputs": []
    },
    {
      "cell_type": "code",
      "metadata": {
        "id": "ENHlNj8G2q1b",
        "colab_type": "code",
        "colab": {}
      },
      "source": [
        "plt.plot(history.history['loss'],label='loss')\n",
        "plt.plot(history.history['val_loss'],label='val_loss')\n",
        "\n"
      ],
      "execution_count": null,
      "outputs": []
    },
    {
      "cell_type": "code",
      "metadata": {
        "id": "itYq2iJT20cJ",
        "colab_type": "code",
        "colab": {}
      },
      "source": [
        "plt.plot(history.history['accuracy'],label='accuracy')\n",
        "plt.plot(history.history['val_accuracy'],label='val_accuracy')\n"
      ],
      "execution_count": null,
      "outputs": []
    },
    {
      "cell_type": "code",
      "metadata": {
        "id": "UFd59hJL33gt",
        "colab_type": "code",
        "colab": {}
      },
      "source": [
        "batch_size=32\n",
        "data_generator=tf.keras.preprocessing.image.ImageDataGenerator(\n",
        "     height_shift_range=0.1, widht_shift_range=0.1,,shear_range=0.1, zoom_range=0.2,\n",
        "    channel_shift_range=0.1, fill_mode='nearest',horizontal_flip=True,\n",
        "    vertical_flip=True,\n",
        ")\n",
        "train_generator=data_generator.flow(x_train,y_train,batch_size)\n",
        "steps_per_epoch=x_train.shape[0]\n",
        "r=model.fit_generator(train_generator,validation_data=(x_test,y_test),steps_per_epoch=steps_per_epoch,epochs=50)"
      ],
      "execution_count": null,
      "outputs": []
    },
    {
      "cell_type": "code",
      "metadata": {
        "id": "zx9Rswz_-koZ",
        "colab_type": "code",
        "colab": {}
      },
      "source": [
        "plt.plot(history.history['loss'],label='loss')\n",
        "plt.plot(history.history['val_loss'],label='val_loss')\n",
        "\n"
      ],
      "execution_count": null,
      "outputs": []
    },
    {
      "cell_type": "code",
      "metadata": {
        "id": "h1bUmJ7k-qyT",
        "colab_type": "code",
        "colab": {}
      },
      "source": [
        "plt.plot(history.history['accuracy'],label='accuracy')\n",
        "plt.plot(history.history['val_accuracy'],label='val_accuracy')\n"
      ],
      "execution_count": null,
      "outputs": []
    },
    {
      "cell_type": "code",
      "metadata": {
        "id": "orQPup0L-rHU",
        "colab_type": "code",
        "colab": {}
      },
      "source": [
        ""
      ],
      "execution_count": null,
      "outputs": []
    }
  ]
}